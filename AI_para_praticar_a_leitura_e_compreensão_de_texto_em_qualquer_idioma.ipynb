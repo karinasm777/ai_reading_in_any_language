{
  "nbformat": 4,
  "nbformat_minor": 0,
  "metadata": {
    "colab": {
      "provenance": [],
      "authorship_tag": "ABX9TyMke0fvktKT5KeQc3gIat9T",
      "include_colab_link": true
    },
    "kernelspec": {
      "name": "python3",
      "display_name": "Python 3"
    },
    "language_info": {
      "name": "python"
    }
  },
  "cells": [
    {
      "cell_type": "markdown",
      "metadata": {
        "id": "view-in-github",
        "colab_type": "text"
      },
      "source": [
        "<a href=\"https://colab.research.google.com/github/karinasm777/ai_reading_in_italian/blob/main/AI_para_praticar_a_leitura_e_compreens%C3%A3o_de_texto_em_qualquer_idioma.ipynb\" target=\"_parent\"><img src=\"https://colab.research.google.com/assets/colab-badge.svg\" alt=\"Open In Colab\"/></a>"
      ]
    },
    {
      "cell_type": "markdown",
      "source": [
        "Instalando o SDK do Google"
      ],
      "metadata": {
        "id": "E7pHKv8viSZb"
      }
    },
    {
      "cell_type": "code",
      "source": [
        "!pip install -q -U google-generativeai"
      ],
      "metadata": {
        "id": "9tNs368hkBsF"
      },
      "execution_count": 45,
      "outputs": []
    },
    {
      "cell_type": "code",
      "source": [
        "import google.generativeai as genai\n",
        "from google.colab import userdata\n",
        "\n",
        "api_key = userdata.get(\"SECRET_KEY\")\n",
        "genai.configure(api_key=api_key)"
      ],
      "metadata": {
        "id": "UsY5-iax9k7P"
      },
      "execution_count": 46,
      "outputs": []
    },
    {
      "cell_type": "code",
      "source": [
        "for m in genai.list_models():\n",
        "    if 'generateContent' in m.supported_generation_methods:\n",
        "      print(m.name)"
      ],
      "metadata": {
        "colab": {
          "base_uri": "https://localhost:8080/",
          "height": 139
        },
        "id": "3aRCy-_Mmnr3",
        "outputId": "306efce2-0032-4657-ebd2-14251d6e772e"
      },
      "execution_count": 47,
      "outputs": [
        {
          "output_type": "stream",
          "name": "stdout",
          "text": [
            "models/gemini-1.0-pro\n",
            "models/gemini-1.0-pro-001\n",
            "models/gemini-1.0-pro-latest\n",
            "models/gemini-1.0-pro-vision-latest\n",
            "models/gemini-1.5-pro-latest\n",
            "models/gemini-pro\n",
            "models/gemini-pro-vision\n"
          ]
        }
      ]
    },
    {
      "cell_type": "code",
      "source": [
        "generation_config = {\n",
        "    \"candidate_count\": 1,\n",
        "    \"temperature\": 0.5,\n",
        "}"
      ],
      "metadata": {
        "id": "kMSanzaDVckJ"
      },
      "execution_count": 48,
      "outputs": []
    },
    {
      "cell_type": "code",
      "source": [
        "safety_settings = {\n",
        "    \"harassment\": \"block_none\",\n",
        "    \"hate\": \"block_none\",\n",
        "    \"sexual\": \"block_none\",\n",
        "    \"dangerous\": \"block_none\",\n",
        "}"
      ],
      "metadata": {
        "id": "I2Bkp_PykjhJ"
      },
      "execution_count": 49,
      "outputs": []
    },
    {
      "cell_type": "code",
      "source": [
        "model = genai.GenerativeModel(model_name=\"gemini-1.0-pro\",\n",
        "                              generation_config=generation_config,\n",
        "                              safety_settings=safety_settings)\n"
      ],
      "metadata": {
        "id": "Fn8QLt3mXtnV"
      },
      "execution_count": 50,
      "outputs": []
    },
    {
      "cell_type": "code",
      "source": [
        "response = model.generate_content(\"Quero praticar idiomas. Crie um diálogo seguidos de 3 perguntas sobre\")\n",
        "print(response.text)"
      ],
      "metadata": {
        "colab": {
          "base_uri": "https://localhost:8080/",
          "height": 295
        },
        "id": "y_ovUkbAl1d-",
        "outputId": "b2bc0d6d-5065-4f9a-bd38-b332c603c317"
      },
      "execution_count": 51,
      "outputs": [
        {
          "output_type": "stream",
          "name": "stdout",
          "text": [
            "**Diálogo:**\n",
            "\n",
            "**Pessoa A:** Bonjour, je m'appelle Marie. (Olá, meu nome é Marie.)\n",
            "**Pessoa B:** Enchanté, Marie. Je m'appelle Jean. (Prazer em conhecê-la, Marie. Meu nome é Jean.)\n",
            "**Pessoa A:** Tu parles français depuis longtemps ? (Você fala francês há muito tempo?)\n",
            "**Pessoa B:** Oui, depuis mon enfance. (Sim, desde a minha infância.)\n",
            "**Pessoa A:** C'est très bien ! (Isso é ótimo!)\n",
            "**Pessoa B:** Merci. Et toi, tu parles français depuis quand ? (Obrigada. E você, há quanto tempo fala francês?)\n",
            "**Pessoa A:** Je l'apprends depuis quelques mois seulement. (Eu estou aprendendo há apenas alguns meses.)\n",
            "**Pessoa B:** Ne t'inquiète pas, tu progresses rapidement. (Não se preocupe, você está progredindo rapidamente.)\n",
            "\n",
            "**Perguntas:**\n",
            "\n",
            "1. Qual é o nome da pessoa A?\n",
            "2. Há quanto tempo a pessoa B fala francês?\n",
            "3. Há quanto tempo a pessoa A está aprendendo francês?\n"
          ]
        }
      ]
    },
    {
      "cell_type": "code",
      "source": [
        "chat = model.start_chat(history=[])"
      ],
      "metadata": {
        "id": "aT-ganZuq5sO"
      },
      "execution_count": 52,
      "outputs": []
    },
    {
      "cell_type": "code",
      "source": [
        "prompt = input('Em qual idioma você quer praticar sua leitura hoje?(Peça quantos diálogos/textos você quiser) ' )\n",
        "while prompt !='fim':\n",
        "  response = chat.send_message(prompt)\n",
        "  print('Em qual idioma você quer praticar hoje?',  '\\n' ,'(Peça quantos diálogos você quiser) ',response.text, \"\\n\")\n",
        "  prompt = input('Qual idioma você quer praticar?')"
      ],
      "metadata": {
        "id": "YpfmnYk9cbjR",
        "colab": {
          "base_uri": "https://localhost:8080/",
          "height": 1000
        },
        "outputId": "0f1d02b1-9efd-42fa-de1d-1ce082542bd0"
      },
      "execution_count": 53,
      "outputs": [
        {
          "name": "stdout",
          "output_type": "stream",
          "text": [
            "Em qual idioma você quer praticar sua leitura hoje?(Peça quantos diálogos/textos você quiser) 4  dialogos no nivel b2 e 3 textos no nivelB2\n",
            "Em qual idioma você quer praticar hoje? \n",
            " (Peça quantos diálogos você quiser)  **Diálogos no Nível B2**\n",
            "\n",
            "**Diálogo 1**\n",
            "\n",
            "* **Pessoa A:** Olá, Maria. Como você está?\n",
            "* **Pessoa B:** Estou bem, obrigada. E você?\n",
            "* **Pessoa A:** Também estou bem. Estou ansioso para a nossa viagem para a Itália.\n",
            "* **Pessoa B:** Eu também. Já fez as malas?\n",
            "* **Pessoa A:** Ainda não. Vou fazer hoje à noite.\n",
            "\n",
            "**Diálogo 2**\n",
            "\n",
            "* **Pessoa A:** Oi, João. Você viu o noticiário?\n",
            "* **Pessoa B:** Vi sim. É terrível o que está acontecendo na Ucrânia.\n",
            "* **Pessoa A:** Concordo. É uma situação muito triste.\n",
            "* **Pessoa B:** Espero que a guerra acabe logo.\n",
            "* **Pessoa A:** Eu também.\n",
            "\n",
            "**Diálogo 3**\n",
            "\n",
            "* **Pessoa A:** Boa tarde, doutor. Estou aqui para uma consulta.\n",
            "* **Médico:** Claro. Qual o seu nome?\n",
            "* **Pessoa A:** Meu nome é Pedro Silva.\n",
            "* **Médico:** O que o traz aqui hoje?\n",
            "* **Pessoa A:** Estou com dores de cabeça há alguns dias.\n",
            "\n",
            "**Diálogo 4**\n",
            "\n",
            "* **Pessoa A:** Desculpe incomodar, mas você pode me ajudar?\n",
            "* **Pessoa B:** Claro. O que você precisa?\n",
            "* **Pessoa A:** Estou procurando a sala de conferências.\n",
            "* **Pessoa B:** Fica no segundo andar, no final do corredor.\n",
            "* **Pessoa A:** Obrigada.\n",
            "\n",
            "**Textos no Nível B2**\n",
            "\n",
            "**Texto 1**\n",
            "\n",
            "**A importância da educação**\n",
            "\n",
            "A educação é um dos pilares fundamentais de uma sociedade desenvolvida. Ela permite que os indivíduos adquiram conhecimento, habilidades e valores que os tornam cidadãos ativos e responsáveis. A educação promove o desenvolvimento intelectual, social e econômico, contribuindo para o progresso individual e coletivo.\n",
            "\n",
            "Além de fornecer conhecimento específico, a educação também desenvolve habilidades cognitivas, como pensamento crítico, resolução de problemas e comunicação. Essas habilidades são essenciais para o sucesso em diversas áreas da vida, incluindo o mercado de trabalho e a vida pessoal.\n",
            "\n",
            "**Texto 2**\n",
            "\n",
            "**Os desafios da sustentabilidade**\n",
            "\n",
            "A sustentabilidade é um conceito que se refere à capacidade de manter o equilíbrio entre o desenvolvimento econômico, a proteção ambiental e o bem-estar social. Enfrentar os desafios da sustentabilidade é crucial para garantir um futuro próspero para as gerações presentes e futuras.\n",
            "\n",
            "Um dos principais desafios é reduzir a pegada de carbono, diminuindo as emissões de gases de efeito estufa. Isso envolve a transição para fontes de energia renováveis, como solar e eólica, e a adoção de práticas mais eficientes em todos os setores.\n",
            "\n",
            "**Texto 3**\n",
            "\n",
            "**O papel da tecnologia na sociedade moderna**\n",
            "\n",
            "A tecnologia tem desempenhado um papel cada vez mais significativo na sociedade moderna. Ela tem transformado a forma como vivemos, trabalhamos e nos comunicamos. No entanto, é importante considerar tanto os benefícios quanto os desafios associados à tecnologia.\n",
            "\n",
            "A tecnologia pode melhorar a eficiência, facilitar o acesso à informação e promover a inovação. No entanto, também pode criar dependência, levar ao isolamento social e exacerbar as desigualdades. É essencial usar a tecnologia de forma responsável e ética para aproveitar seus benefícios e mitigar seus riscos. \n",
            "\n",
            "Qual idioma você quer praticar?fim\n"
          ]
        }
      ]
    },
    {
      "cell_type": "code",
      "source": [],
      "metadata": {
        "id": "gqrBazaxcXhz"
      },
      "execution_count": null,
      "outputs": []
    },
    {
      "cell_type": "code",
      "source": [],
      "metadata": {
        "id": "TazyP6700vik"
      },
      "execution_count": null,
      "outputs": []
    }
  ]
}